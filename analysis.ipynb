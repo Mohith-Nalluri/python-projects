{
 "cells": [
  {
   "cell_type": "code",
   "execution_count": 2,
   "id": "b2c05313",
   "metadata": {
    "colab": {
     "base_uri": "https://localhost:8080/",
     "height": 612
    },
    "id": "b2c05313",
    "outputId": "29597fcc-8035-4cad-a598-a5577af3223b"
   },
   "outputs": [
    {
     "ename": "FileNotFoundError",
     "evalue": "[Errno 2] No such file or directory: 'calgary_access_log'",
     "output_type": "error",
     "traceback": [
      "\u001b[1;31m---------------------------------------------------------------------------\u001b[0m",
      "\u001b[1;31mFileNotFoundError\u001b[0m                         Traceback (most recent call last)",
      "Cell \u001b[1;32mIn[2], line 12\u001b[0m\n\u001b[0;32m      6\u001b[0m log_pattern \u001b[38;5;241m=\u001b[39m re\u001b[38;5;241m.\u001b[39mcompile(\n\u001b[0;32m      7\u001b[0m     \u001b[38;5;124mr\u001b[39m\u001b[38;5;124m'\u001b[39m\u001b[38;5;124m^(?P<host>\u001b[39m\u001b[38;5;124m\\\u001b[39m\u001b[38;5;124mS+) \u001b[39m\u001b[38;5;124m\\\u001b[39m\u001b[38;5;124mS+ \u001b[39m\u001b[38;5;124m\\\u001b[39m\u001b[38;5;124mS+ \u001b[39m\u001b[38;5;124m\\\u001b[39m\u001b[38;5;124m[(?P<timestamp>[^\u001b[39m\u001b[38;5;124m\\\u001b[39m\u001b[38;5;124m]]+)\u001b[39m\u001b[38;5;124m\\\u001b[39m\u001b[38;5;124m] \u001b[39m\u001b[38;5;124m\"\u001b[39m\u001b[38;5;124m(?P<request>[^\u001b[39m\u001b[38;5;124m\"\u001b[39m\u001b[38;5;124m]*)\u001b[39m\u001b[38;5;124m\"\u001b[39m\u001b[38;5;124m (?P<status>\u001b[39m\u001b[38;5;124m\\\u001b[39m\u001b[38;5;124md\u001b[39m\u001b[38;5;132;01m{3}\u001b[39;00m\u001b[38;5;124m) (?P<bytes>\u001b[39m\u001b[38;5;124m\\\u001b[39m\u001b[38;5;124mS+)$\u001b[39m\u001b[38;5;124m'\u001b[39m\n\u001b[0;32m      8\u001b[0m )\n\u001b[0;32m     10\u001b[0m parsed_logs \u001b[38;5;241m=\u001b[39m []\n\u001b[1;32m---> 12\u001b[0m \u001b[38;5;28;01mwith\u001b[39;00m \u001b[38;5;28mopen\u001b[39m(\u001b[38;5;124m\"\u001b[39m\u001b[38;5;124mcalgary_access_log\u001b[39m\u001b[38;5;124m\"\u001b[39m, \u001b[38;5;124m\"\u001b[39m\u001b[38;5;124mr\u001b[39m\u001b[38;5;124m\"\u001b[39m, encoding\u001b[38;5;241m=\u001b[39m\u001b[38;5;124m\"\u001b[39m\u001b[38;5;124mlatin1\u001b[39m\u001b[38;5;124m\"\u001b[39m) \u001b[38;5;28;01mas\u001b[39;00m f:\n\u001b[0;32m     13\u001b[0m     \u001b[38;5;28;01mfor\u001b[39;00m line \u001b[38;5;129;01min\u001b[39;00m f:\n\u001b[0;32m     14\u001b[0m         match \u001b[38;5;241m=\u001b[39m log_pattern\u001b[38;5;241m.\u001b[39mmatch(line)\n",
      "File \u001b[1;32m~\\anaconda3\\Lib\\site-packages\\IPython\\core\\interactiveshell.py:284\u001b[0m, in \u001b[0;36m_modified_open\u001b[1;34m(file, *args, **kwargs)\u001b[0m\n\u001b[0;32m    277\u001b[0m \u001b[38;5;28;01mif\u001b[39;00m file \u001b[38;5;129;01min\u001b[39;00m {\u001b[38;5;241m0\u001b[39m, \u001b[38;5;241m1\u001b[39m, \u001b[38;5;241m2\u001b[39m}:\n\u001b[0;32m    278\u001b[0m     \u001b[38;5;28;01mraise\u001b[39;00m \u001b[38;5;167;01mValueError\u001b[39;00m(\n\u001b[0;32m    279\u001b[0m         \u001b[38;5;124mf\u001b[39m\u001b[38;5;124m\"\u001b[39m\u001b[38;5;124mIPython won\u001b[39m\u001b[38;5;124m'\u001b[39m\u001b[38;5;124mt let you open fd=\u001b[39m\u001b[38;5;132;01m{\u001b[39;00mfile\u001b[38;5;132;01m}\u001b[39;00m\u001b[38;5;124m by default \u001b[39m\u001b[38;5;124m\"\u001b[39m\n\u001b[0;32m    280\u001b[0m         \u001b[38;5;124m\"\u001b[39m\u001b[38;5;124mas it is likely to crash IPython. If you know what you are doing, \u001b[39m\u001b[38;5;124m\"\u001b[39m\n\u001b[0;32m    281\u001b[0m         \u001b[38;5;124m\"\u001b[39m\u001b[38;5;124myou can use builtins\u001b[39m\u001b[38;5;124m'\u001b[39m\u001b[38;5;124m open.\u001b[39m\u001b[38;5;124m\"\u001b[39m\n\u001b[0;32m    282\u001b[0m     )\n\u001b[1;32m--> 284\u001b[0m \u001b[38;5;28;01mreturn\u001b[39;00m io_open(file, \u001b[38;5;241m*\u001b[39margs, \u001b[38;5;241m*\u001b[39m\u001b[38;5;241m*\u001b[39mkwargs)\n",
      "\u001b[1;31mFileNotFoundError\u001b[0m: [Errno 2] No such file or directory: 'calgary_access_log'"
     ]
    }
   ],
   "source": [
    "\n",
    "import re\n",
    "from datetime import datetime\n",
    "import pandas as pd\n",
    "import seaborn as sns\n",
    "\n",
    "log_pattern = re.compile(\n",
    "    r'^(?P<host>\\S+) \\S+ \\S+ \\[(?P<timestamp>[^\\]]+)\\] \"(?P<request>[^\"]*)\" (?P<status>\\d{3}) (?P<bytes>\\S+)$'\n",
    ")\n",
    "\n",
    "parsed_logs = []\n",
    "\n",
    "with open(\"calgary_access_log\", \"r\", encoding=\"latin1\") as f:\n",
    "    for line in f:\n",
    "        match = log_pattern.match(line)\n",
    "        if not match:\n",
    "            continue  # skip malformed lines\n",
    "\n",
    "        data = match.groupdict()\n",
    "\n",
    "        # Handle request line\n",
    "        try:\n",
    "            method, filename, protocol = data[\"request\"].split()\n",
    "        except ValueError:\n",
    "            filename = \"\"  # malformed request\n",
    "        data[\"filename\"] = filename\n",
    "\n",
    "        # Convert fields\n",
    "        try:\n",
    "            data[\"status\"] = int(data[\"status\"])\n",
    "        except:\n",
    "            data[\"status\"] = None\n",
    "\n",
    "        try:\n",
    "            data[\"bytes\"] = int(data[\"bytes\"]) if data[\"bytes\"].isdigit() else 0\n",
    "        except:\n",
    "            data[\"bytes\"] = 0\n",
    "\n",
    "        try:\n",
    "            data[\"datetime\"] = datetime.strptime(data[\"timestamp\"], \"%d/%b/%Y:%H:%M:%S %z\")\n",
    "        except:\n",
    "            continue  # skip if timestamp parsing fails\n",
    "\n",
    "        parsed_logs.append(data)\n",
    "\n",
    "# Load to DataFrame\n",
    "df = pd.DataFrame(parsed_logs)\n",
    "df[\"datetime\"] = pd.to_datetime(df[\"datetime\"],utc=True)\n",
    "\n",
    "# Extract file extension\n",
    "df[\"extension\"] = df[\"filename\"].str.extract(r'\\.([a-zA-Z0-9]+)$')\n",
    "\n",
    "# Extract date string\n",
    "df[\"date_str\"] = df[\"datetime\"].dt.strftime('%d-%b-%Y')\n",
    "\n",
    "# Extract hour used for 8th question\n",
    "df[\"hour\"] = df[\"datetime\"].dt.hour\n",
    "\n",
    "# Data Cleaning\n",
    "\n",
    "# checking datatypes\n",
    "print(df.info())\n",
    "\n",
    "# handling duplicates\n",
    "df.drop_duplicates()\n",
    "\n",
    "# handling null values\n",
    "\n",
    "df.dropna()\n",
    "\n",
    "df.describe()\n",
    "\n",
    "\n"
   ]
  },
  {
   "cell_type": "code",
   "execution_count": 11,
   "id": "f6264dd7",
   "metadata": {
    "colab": {
     "base_uri": "https://localhost:8080/"
    },
    "id": "f6264dd7",
    "outputId": "9a3c0f1a-ec9e-41a1-e639-d8194af86c4c"
   },
   "outputs": [
    {
     "name": "stdout",
     "output_type": "stream",
     "text": [
      "Answer 1:\n",
      "722270\n"
     ]
    }
   ],
   "source": [
    "def total_log_records() -> int:\n",
    "    \n",
    "    totalrecords = len(df)\n",
    "    return totalrecords  \n",
    "\n",
    "\n",
    "answer1 = total_log_records()\n",
    "print(\"Answer 1:\")\n",
    "print(answer1)"
   ]
  },
  {
   "cell_type": "code",
   "execution_count": 13,
   "id": "fcbccae5",
   "metadata": {
    "colab": {
     "base_uri": "https://localhost:8080/"
    },
    "id": "fcbccae5",
    "outputId": "737cce5b-58a5-486a-ee0b-17076ead11df"
   },
   "outputs": [
    {
     "name": "stdout",
     "output_type": "stream",
     "text": [
      "Answer 2:\n",
      "2\n"
     ]
    }
   ],
   "source": [
    "def unique_host_count() -> int:\n",
    "    \n",
    "    count = df[\"host\"].nunique()\n",
    "    return count  \n",
    "\n",
    "\n",
    "answer2 = unique_host_count()\n",
    "print(\"Answer 2:\")\n",
    "print(answer2)"
   ]
  },
  {
   "cell_type": "code",
   "execution_count": 12,
   "id": "ac11c680",
   "metadata": {
    "colab": {
     "base_uri": "https://localhost:8080/"
    },
    "id": "ac11c680",
    "outputId": "d566014f-f6eb-4b74-ab30-5848b2d46a32"
   },
   "outputs": [
    {
     "name": "stdout",
     "output_type": "stream",
     "text": [
      "Answer 3:\n",
      "{'01-Apr-1995': 407, '01-Aug-1995': 664, '01-Dec-1994': 244, '01-Feb-1995': 571, '01-Jan-1995': 82, '01-Jul-1995': 406, '01-Jun-1995': 569, '01-Mar-1995': 520, '01-May-1995': 433, '01-Nov-1994': 437, '01-Oct-1995': 584, '01-Sep-1995': 446, '02-Apr-1995': 395, '02-Aug-1995': 786, '02-Dec-1994': 357, '02-Feb-1995': 620, '02-Jan-1995': 128, '02-Jul-1995': 363, '02-Jun-1995': 547, '02-Mar-1995': 677, '02-May-1995': 695, '02-Nov-1994': 423, '02-Oct-1995': 840, '02-Sep-1995': 307, '03-Apr-1995': 814, '03-Aug-1995': 660, '03-Dec-1994': 152, '03-Feb-1995': 567, '03-Jan-1995': 258, '03-Jul-1995': 461, '03-Jun-1995': 398, '03-Mar-1995': 503, '03-May-1995': 566, '03-Nov-1994': 451, '03-Oct-1995': 834, '03-Sep-1995': 208, '04-Apr-1995': 863, '04-Aug-1995': 740, '04-Dec-1994': 212, '04-Feb-1995': 451, '04-Jan-1995': 314, '04-Jul-1995': 492, '04-Jun-1995': 324, '04-Mar-1995': 365, '04-May-1995': 701, '04-Nov-1994': 417, '04-Oct-1995': 911, '04-Sep-1995': 310, '05-Apr-1995': 830, '05-Aug-1995': 498, '05-Dec-1994': 296, '05-Feb-1995': 536, '05-Jan-1995': 321, '05-Jul-1995': 647, '05-Jun-1995': 462, '05-Mar-1995': 407, '05-May-1995': 531, '05-Nov-1994': 275, '05-Oct-1995': 867, '05-Sep-1995': 465, '06-Apr-1995': 778, '06-Aug-1995': 452, '06-Dec-1994': 373, '06-Feb-1995': 572, '06-Jan-1995': 217, '06-Jul-1995': 487, '06-Jun-1995': 630, '06-Mar-1995': 699, '06-May-1995': 508, '06-Nov-1994': 200, '06-Oct-1995': 900, '06-Sep-1995': 475, '07-Apr-1995': 723, '07-Aug-1995': 593, '07-Dec-1994': 347, '07-Feb-1995': 716, '07-Jan-1995': 154, '07-Jul-1995': 447, '07-Jun-1995': 523, '07-Mar-1995': 732, '07-May-1995': 678, '07-Nov-1994': 279, '07-Oct-1995': 535, '07-Sep-1995': 611, '08-Apr-1995': 618, '08-Aug-1995': 662, '08-Dec-1994': 371, '08-Feb-1995': 632, '08-Jan-1995': 137, '08-Jul-1995': 298, '08-Jun-1995': 640, '08-Mar-1995': 646, '08-May-1995': 756, '08-Nov-1994': 321, '08-Oct-1995': 519, '08-Sep-1995': 704, '09-Apr-1995': 566, '09-Aug-1995': 669, '09-Dec-1994': 359, '09-Feb-1995': 666, '09-Jan-1995': 395, '09-Jul-1995': 215, '09-Jun-1995': 440, '09-Mar-1995': 620, '09-May-1995': 717, '09-Nov-1994': 326, '09-Oct-1995': 676, '09-Sep-1995': 476, '10-Apr-1995': 774, '10-Aug-1995': 653, '10-Dec-1994': 215, '10-Feb-1995': 808, '10-Jan-1995': 355, '10-Jul-1995': 454, '10-Jun-1995': 361, '10-Mar-1995': 772, '10-May-1995': 744, '10-Nov-1994': 349, '10-Oct-1995': 870, '10-Sep-1995': 401, '11-Apr-1995': 835, '11-Aug-1995': 454, '11-Dec-1994': 164, '11-Feb-1995': 391, '11-Jan-1995': 385, '11-Jul-1995': 581, '11-Jun-1995': 312, '11-Mar-1995': 525, '11-May-1995': 684, '11-Nov-1994': 307, '11-Oct-1995': 793, '11-Sep-1995': 686, '12-Apr-1995': 847, '12-Aug-1995': 355, '12-Dec-1994': 403, '12-Feb-1995': 445, '12-Jan-1995': 458, '12-Jul-1995': 473, '12-Jun-1995': 480, '12-Mar-1995': 452, '12-May-1995': 486, '12-Nov-1994': 163, '12-Sep-1995': 775, '13-Apr-1995': 633, '13-Aug-1995': 401, '13-Dec-1994': 355, '13-Feb-1995': 647, '13-Jan-1995': 424, '13-Jul-1995': 534, '13-Jun-1995': 485, '13-Mar-1995': 703, '13-May-1995': 317, '13-Nov-1994': 187, '13-Sep-1995': 780, '14-Apr-1995': 448, '14-Aug-1995': 608, '14-Dec-1994': 341, '14-Feb-1995': 701, '14-Jan-1995': 247, '14-Jul-1995': 516, '14-Jun-1995': 619, '14-Mar-1995': 927, '14-May-1995': 263, '14-Nov-1994': 345, '14-Sep-1995': 698, '15-Apr-1995': 427, '15-Aug-1995': 486, '15-Dec-1994': 262, '15-Feb-1995': 784, '15-Jan-1995': 220, '15-Jul-1995': 410, '15-Jun-1995': 512, '15-Mar-1995': 803, '15-May-1995': 569, '15-Nov-1994': 314, '15-Sep-1995': 724, '16-Apr-1995': 460, '16-Aug-1995': 612, '16-Dec-1994': 331, '16-Feb-1995': 676, '16-Jan-1995': 424, '16-Jul-1995': 306, '16-Jun-1995': 501, '16-Mar-1995': 795, '16-May-1995': 466, '16-Nov-1994': 398, '16-Sep-1995': 591, '17-Apr-1995': 453, '17-Aug-1995': 528, '17-Dec-1994': 338, '17-Feb-1995': 624, '17-Jan-1995': 358, '17-Jul-1995': 533, '17-Jun-1995': 380, '17-Mar-1995': 490, '17-May-1995': 493, '17-Nov-1994': 402, '17-Sep-1995': 462, '18-Apr-1995': 425, '18-Aug-1995': 540, '18-Dec-1994': 324, '18-Feb-1995': 511, '18-Jan-1995': 411, '18-Jul-1995': 535, '18-Jun-1995': 368, '18-Mar-1995': 359, '18-May-1995': 517, '18-Nov-1994': 359, '18-Sep-1995': 638, '19-Apr-1995': 628, '19-Aug-1995': 339, '19-Dec-1994': 337, '19-Feb-1995': 446, '19-Jan-1995': 453, '19-Jul-1995': 535, '19-Jun-1995': 573, '19-Mar-1995': 485, '19-May-1995': 528, '19-Nov-1994': 321, '19-Sep-1995': 741, '20-Apr-1995': 658, '20-Aug-1995': 398, '20-Dec-1994': 357, '20-Feb-1995': 449, '20-Jan-1995': 534, '20-Jul-1995': 577, '20-Jun-1995': 513, '20-Mar-1995': 520, '20-May-1995': 312, '20-Nov-1994': 194, '20-Sep-1995': 771, '21-Apr-1995': 750, '21-Aug-1995': 544, '21-Dec-1994': 265, '21-Feb-1995': 504, '21-Jan-1995': 294, '21-Jul-1995': 689, '21-Jun-1995': 609, '21-Mar-1995': 768, '21-May-1995': 276, '21-Nov-1994': 351, '21-Sep-1995': 830, '22-Apr-1995': 443, '22-Aug-1995': 594, '22-Dec-1994': 279, '22-Feb-1995': 642, '22-Jan-1995': 258, '22-Jul-1995': 366, '22-Jun-1995': 622, '22-Mar-1995': 697, '22-May-1995': 413, '22-Nov-1994': 329, '22-Sep-1995': 670, '23-Apr-1995': 340, '23-Aug-1995': 671, '23-Dec-1994': 158, '23-Feb-1995': 642, '23-Jan-1995': 414, '23-Jul-1995': 497, '23-Jun-1995': 589, '23-Mar-1995': 804, '23-May-1995': 575, '23-Nov-1994': 340, '23-Sep-1995': 544, '24-Apr-1995': 460, '24-Aug-1995': 548, '24-Dec-1994': 88, '24-Feb-1995': 565, '24-Jan-1995': 405, '24-Jul-1995': 577, '24-Jun-1995': 280, '24-Mar-1995': 635, '24-May-1995': 507, '24-Nov-1994': 361, '24-Oct-1994': 159, '24-Sep-1995': 513, '25-Apr-1995': 622, '25-Aug-1995': 587, '25-Dec-1994': 47, '25-Feb-1995': 341, '25-Jan-1995': 443, '25-Jul-1995': 562, '25-Jun-1995': 644, '25-Mar-1995': 570, '25-May-1995': 461, '25-Nov-1994': 337, '25-Oct-1994': 331, '25-Sep-1995': 755, '26-Apr-1995': 618, '26-Aug-1995': 410, '26-Dec-1994': 109, '26-Feb-1995': 517, '26-Jan-1995': 373, '26-Jul-1995': 662, '26-Jun-1995': 547, '26-Mar-1995': 524, '26-May-1995': 521, '26-Nov-1994': 235, '26-Oct-1994': 317, '26-Sep-1995': 809, '27-Apr-1995': 654, '27-Aug-1995': 380, '27-Dec-1994': 158, '27-Feb-1995': 491, '27-Jan-1995': 479, '27-Jul-1995': 619, '27-Jun-1995': 543, '27-Mar-1995': 777, '27-May-1995': 228, '27-Nov-1994': 229, '27-Oct-1994': 434, '27-Sep-1995': 817, '28-Apr-1995': 571, '28-Aug-1995': 561, '28-Dec-1994': 121, '28-Feb-1995': 532, '28-Jan-1995': 412, '28-Jul-1995': 542, '28-Jun-1995': 606, '28-Mar-1995': 759, '28-May-1995': 223, '28-Nov-1994': 308, '28-Oct-1994': 394, '28-Sep-1995': 919, '29-Apr-1995': 442, '29-Aug-1995': 514, '29-Dec-1994': 174, '29-Jan-1995': 288, '29-Jul-1995': 417, '29-Jun-1995': 495, '29-Mar-1995': 935, '29-May-1995': 416, '29-Nov-1994': 421, '29-Oct-1994': 250, '29-Sep-1995': 836, '30-Apr-1995': 293, '30-Aug-1995': 613, '30-Dec-1994': 131, '30-Jan-1995': 547, '30-Jul-1995': 430, '30-Jun-1995': 457, '30-Mar-1995': 770, '30-May-1995': 581, '30-Nov-1994': 424, '30-Oct-1994': 205, '30-Sep-1995': 643, '31-Aug-1995': 473, '31-Dec-1994': 74, '31-Jan-1995': 525, '31-Jul-1995': 619, '31-Mar-1995': 1006, '31-May-1995': 607, '31-Oct-1994': 350}\n"
     ]
    }
   ],
   "source": [
    "def datewise_unique_filename_counts() -> dict[str, int]:\n",
    "    \n",
    "    result = df.groupby(\"date_str\")[\"filename\"].nunique().to_dict()\n",
    "    return result  \n",
    "\n",
    "\n",
    "answer3 = datewise_unique_filename_counts()\n",
    "print(\"Answer 3:\")\n",
    "print(answer3)"
   ]
  },
  {
   "cell_type": "code",
   "execution_count": 46,
   "id": "d0671865",
   "metadata": {
    "colab": {
     "base_uri": "https://localhost:8080/"
    },
    "id": "d0671865",
    "outputId": "e0f09ffd-4f97-49e6-db06-6e8c0ad2f305"
   },
   "outputs": [
    {
     "name": "stdout",
     "output_type": "stream",
     "text": [
      "Answer 4:\n",
      "23517\n"
     ]
    }
   ],
   "source": [
    "def count_404_errors() -> int:\n",
    "    \n",
    "    \n",
    "    df404 = df[df[\"status\"]==404]\n",
    "    count = len(df404)\n",
    "    return count  \n",
    "\n",
    "\n",
    "answer4 = count_404_errors()\n",
    "print(\"Answer 4:\")\n",
    "print(answer4)"
   ]
  },
  {
   "cell_type": "code",
   "execution_count": 27,
   "id": "358f0523",
   "metadata": {
    "colab": {
     "base_uri": "https://localhost:8080/"
    },
    "id": "358f0523",
    "outputId": "ec155972-ed87-4182-c7f4-b3f06140c8a9"
   },
   "outputs": [
    {
     "name": "stdout",
     "output_type": "stream",
     "text": [
      "Answer 5:\n",
      "[('index.html', 4694), ('4115.html', 902), ('1611.html', 649), ('5698.xbm', 585), ('710.txt', 408), ('2002.html', 258), ('2177.gif', 193), ('10695.ps', 161), ('6555.html', 153), ('487.gif', 152), ('151.html', 149), ('3414.gif', 148), ('40.html', 148), ('488.gif', 148), ('9678.gif', 142)]\n"
     ]
    }
   ],
   "source": [
    "def top_15_filenames_with_404() -> list[tuple[str, int]]:\n",
    "    \n",
    "   \n",
    "    df404 = df[df[\"status\"] == 404]\n",
    "    result = df404.groupby(\"filename\")[\"status\"].count().to_dict()\n",
    "    result1 = sorted(result.items(), key=lambda x: x[1], reverse=True)[:15]\n",
    "    return result1 \n",
    "\n",
    "\n",
    "answer5 = top_15_filenames_with_404()\n",
    "print(\"Answer 5:\")\n",
    "print(answer5)"
   ]
  },
  {
   "cell_type": "code",
   "execution_count": 26,
   "id": "d0aca8cc",
   "metadata": {
    "colab": {
     "base_uri": "https://localhost:8080/"
    },
    "id": "d0aca8cc",
    "outputId": "54ee92b7-bb3c-4c56-adf9-afda93b75179"
   },
   "outputs": [
    {
     "name": "stdout",
     "output_type": "stream",
     "text": [
      "Answer 6:\n",
      "[('html', 12142), ('gif', 7202), ('xbm', 824), ('ps', 754), ('jpg', 520), ('txt', 496), ('GIF', 135), ('htm', 107), ('cgi', 77), ('com', 45), ('Z', 41), ('dvi', 40), ('ca', 36), ('hmtl', 30), ('util', 29)]\n"
     ]
    }
   ],
   "source": [
    "def top_15_ext_with_404() -> list[tuple[str, int]]:\n",
    "    \n",
    "\n",
    "    df404 = df[df[\"status\"] == 404]\n",
    "    result = df404.groupby(\"extension\")[\"status\"].count().to_dict()\n",
    "    result1 = sorted(result.items(), key=lambda x: x[1], reverse=True)[:15]\n",
    "    return result1  \n",
    "\n",
    "\n",
    "answer6 = top_15_ext_with_404()\n",
    "print(\"Answer 6:\")\n",
    "print(answer6)"
   ]
  },
  {
   "cell_type": "code",
   "execution_count": 50,
   "id": "45f52d9b",
   "metadata": {
    "colab": {
     "base_uri": "https://localhost:8080/"
    },
    "id": "45f52d9b",
    "outputId": "a5aa1f64-4052-4179-9751-8d9546805be3"
   },
   "outputs": [
    {
     "name": "stdout",
     "output_type": "stream",
     "text": [
      "Answer 7:\n",
      "{'01-Jul-1995': 17002716, '02-Jul-1995': 7895368, '03-Jul-1995': 11741216, '04-Jul-1995': 25070338, '05-Jul-1995': 22468066, '06-Jul-1995': 20421399, '07-Jul-1995': 9566244, '08-Jul-1995': 5475250, '09-Jul-1995': 4312672, '10-Jul-1995': 13199230, '11-Jul-1995': 22699447, '12-Jul-1995': 17861622, '13-Jul-1995': 15964302, '14-Jul-1995': 16145982, '15-Jul-1995': 17902136, '16-Jul-1995': 8099828, '17-Jul-1995': 18428308, '18-Jul-1995': 17948048, '19-Jul-1995': 16170122, '20-Jul-1995': 25504932, '21-Jul-1995': 25944849, '22-Jul-1995': 6267473, '23-Jul-1995': 10131132, '24-Jul-1995': 20568058, '25-Jul-1995': 23300705, '26-Jul-1995': 26685445, '27-Jul-1995': 22954650, '28-Jul-1995': 37455984, '29-Jul-1995': 16293639, '30-Jul-1995': 21157883, '31-Jul-1995': 29865303}\n"
     ]
    }
   ],
   "source": [
    "def total_bandwidth_per_day() -> dict[str, int]:\n",
    "    \n",
    "    july_df = df[df['datetime'].dt.strftime('%b-%Y') == 'Jul-1995']\n",
    "    df_bytes = july_df[july_df['bytes'] > 0]\n",
    "    result = df_bytes.groupby(\"date_str\")[\"bytes\"].sum().to_dict()\n",
    "    return result  \n",
    "\n",
    "\n",
    "answer7 = total_bandwidth_per_day()\n",
    "print(\"Answer 7:\")\n",
    "print(answer7)"
   ]
  },
  {
   "cell_type": "code",
   "execution_count": 43,
   "id": "a77f3e12",
   "metadata": {
    "colab": {
     "base_uri": "https://localhost:8080/"
    },
    "id": "a77f3e12",
    "outputId": "55263cff-a372-4386-efba-876f433dfd5d"
   },
   "outputs": [
    {
     "name": "stdout",
     "output_type": "stream",
     "text": [
      "Answer 8:\n",
      "{0: 39610, 1: 32685, 2: 30736, 3: 28168, 4: 26027, 5: 22853, 6: 19868, 7: 17079, 8: 13879, 9: 11438, 10: 10574, 11: 10432, 12: 12319, 13: 15191, 14: 22093, 15: 30921, 16: 38019, 17: 46323, 18: 45768, 19: 50058, 20: 51160, 21: 52919, 22: 50514, 23: 46202}\n"
     ]
    }
   ],
   "source": [
    "def hourly_request_distribution() -> dict[int, int]:\n",
    "    \n",
    "    result = df.groupby(\"hour\")[\"request\"].count().to_dict()\n",
    "\n",
    "    return result  \n",
    "\n",
    "answer8 = hourly_request_distribution()\n",
    "print(\"Answer 8:\")\n",
    "print(answer8)"
   ]
  },
  {
   "cell_type": "code",
   "execution_count": 41,
   "id": "91168ad7",
   "metadata": {
    "colab": {
     "base_uri": "https://localhost:8080/"
    },
    "id": "91168ad7",
    "outputId": "e68d5f09-1abd-42fc-ddde-c49bd64901cd"
   },
   "outputs": [
    {
     "name": "stdout",
     "output_type": "stream",
     "text": [
      "Answer 9:\n",
      "[('index.html', 139528), ('3.gif', 24006), ('2.gif', 23595), ('4.gif', 8018), ('244.gif', 5148), ('5.html', 5010), ('4097.gif', 4874), ('8870.jpg', 4492), ('6733.gif', 4278), ('8472.gif', 3843)]\n"
     ]
    }
   ],
   "source": [
    "def top_10_most_requested_filenames() -> list[tuple[str, int]]:\n",
    "    \n",
    "    result = df.groupby(\"filename\")[\"request\"].count().to_dict()\n",
    "    result1 = sorted(result.items(),key = lambda x :x[1],reverse=True)[:10]\n",
    "    return result1  \n",
    "\n",
    "\n",
    "answer9 = top_10_most_requested_filenames()\n",
    "print(\"Answer 9:\")\n",
    "print(answer9)"
   ]
  },
  {
   "cell_type": "code",
   "execution_count": 38,
   "id": "bd4453ed",
   "metadata": {
    "colab": {
     "base_uri": "https://localhost:8080/"
    },
    "id": "bd4453ed",
    "outputId": "6492e41a-b26a-4305-9f13-26b2e2648038"
   },
   "outputs": [
    {
     "name": "stdout",
     "output_type": "stream",
     "text": [
      "{200: 568345, 302: 30295, 304: 97792, 400: 15, 401: 46, 403: 4741, 404: 23517, 500: 42, 501: 43}\n",
      "Answer 10:\n",
      "{}\n"
     ]
    }
   ],
   "source": [
    "def response_code_distribution() -> dict[int, int]:\n",
    "    \n",
    "    result = df.groupby(\"status\").size().to_dict()\n",
    "    print(result)\n",
    "    return {}  \n",
    "\n",
    "\n",
    "answer10 = response_code_distribution()\n",
    "print(\"Answer 10:\")\n",
    "print(answer10)"
   ]
  }
 ],
 "metadata": {
  "colab": {
   "provenance": []
  },
  "kernelspec": {
   "display_name": "Python 3 (ipykernel)",
   "language": "python",
   "name": "python3"
  },
  "language_info": {
   "codemirror_mode": {
    "name": "ipython",
    "version": 3
   },
   "file_extension": ".py",
   "mimetype": "text/x-python",
   "name": "python",
   "nbconvert_exporter": "python",
   "pygments_lexer": "ipython3",
   "version": "3.11.4"
  }
 },
 "nbformat": 4,
 "nbformat_minor": 5
}
